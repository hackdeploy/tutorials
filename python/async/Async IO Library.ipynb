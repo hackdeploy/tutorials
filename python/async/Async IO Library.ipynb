{
 "cells": [
  {
   "cell_type": "markdown",
   "metadata": {},
   "source": [
    "### Title \n",
    "- Multi threading in python with async io\n",
    "\n",
    "### Keywords\n",
    "- python async io\n",
    "- threads in python\n",
    "- multi thread in python\n",
    "\n",
    "### Notes \n",
    "- async/await: two new Python keywords that are used to define coroutines\n",
    "- asyncio works on Python3.4 and later.\n",
    "- asyncio: the Python package that provides a foundation and API for running and managing coroutines \n",
    "- Multithreading is usually preferred for network I/O or disk I/O as threads need not compete hard among themselves for acquiring GIL.\n",
    "- Though threads are lightweight, creating and destroying a large number of threads is expensive\n",
    "- A better way to create AsyncIO tasks Using asyncio.gather to create multiple tasks in one shot:\n",
    "  await asyncio.gather(*[delay_message(i+1, num_word_mapping[i+1]) for i in range(5)]) # awaits completion of all tasks\n",
    "- an asyncio task has an exclusive right to use CPU until it volunteers to give up\n",
    "- asyncio (this technique is available not only in Python, other languages and/or frameworks also have it, e.g. Boost.ASIO) is a method to effectively handle a lot of I/O operations from many simultaneous sources w/o need of parallel code execution.\n",
    "- asyncio is essentially threading where not the CPU but you, as a programmer (or actually your application), decide where and when does the context switch happen. In Python you use an await keyword to suspend the execution of your coroutine (defined using async keyword).\n",
    "- The most basic tool in the tool kit of an asynchronous programmer in Python is the new keyword async def\n",
    "\n",
    "### Resources\n",
    "- https://medium.com/analytics-vidhya/asyncio-threading-and-multiprocessing-in-python-4f5ff6ca75e8\n",
    "- https://stackoverflow.com/questions/27435284/multiprocessing-vs-multithreading-vs-asyncio-in-python-3\n",
    "- https://www.toptal.com/python/beginners-guide-to-concurrency-and-parallelism-in-python\n",
    "- https://bbc.github.io/cloudfit-public-docs/asyncio/asyncio-part-1.html\n",
    "\n",
    "- https://towardsdatascience.com/why-you-should-use-async-in-python-6ab53740077e\n",
    "\n",
    "### Related Posts\n",
    "- Learn Python Threading"
   ]
  },
  {
   "cell_type": "markdown",
   "metadata": {},
   "source": [
    "### What is a Thread\n",
    "- A seperate flow of execution.\n",
    "- Threading is just one of the many ways concurrent programs can be built.\n",
    "- Threads dont run independent tasks at the same time, will be running one at a time unless you use the multiprocessing package or some other language.\n",
    "\n",
    "### What AsyncIO is not\n",
    "- Using asyncio in your Python code will not make your code multithreaded. It will not cause multiple Python instructions to be executed at once, and it will not in any way allow you to sidestep the so-called “global interpreter lock”.\n",
    "\n",
    "\n",
    "### Multi Threading vs Multi Processing vs Async IO\n",
    "- CPU Bound => Multi Processing\n",
    "- I/O Bound, Fast I/O, Limited Number of Connections => Multi Threading\n",
    "- I/O Bound, Slow I/O, Many connections => Asyncio\n",
    "\n",
    "\n",
    "- asyncio is often a perfect fit for IO-bound and high-level structured network code.\n",
    "\n",
    "\n",
    "- TERMINOLOGY ICON TERMINOLOGY: Some processes are CPU-bound: they consist of a series of instructions which need to be executed one after another until the result has been computed. All of the time they are running is time that they are making full use of the computer’s facilities (give or take).\n",
    "\n",
    "- other processes, however, are IO-bound: they spend a lot of time sending and receiving data from external devices or processes, and hence often need to start an operation and then wait for it to complete before carrying on. During the waiting they aren’t doing very much.\n",
    "\n",
    "### Writing Asynchronous Code\n",
    "- async def function\n",
    "\n",
    "### The await Keyword and Awaitables\n",
    "- One of the new keywords added to the language to support asyncio is await. This keyword is, in many ways, the very core of asynchronous code. It can only be used inside asynchronous code blocks (ie. in the code block of an async def statement defining a coroutine function), and it is used as an expression which takes a single parameter and returns a value.\n",
    "\n"
   ]
  },
  {
   "cell_type": "code",
   "execution_count": 6,
   "metadata": {},
   "outputs": [],
   "source": [
    "import asyncio\n",
    "import time\n",
    "\n",
    "async def say_after(delay, what):\n",
    "    await asyncio.sleep(delay)\n",
    "    print(what)\n",
    "\n",
    "async def main():\n",
    "    print(f\"started at {time.strftime('%X')}\")\n",
    "\n",
    "    await say_after(1, 'hello')\n",
    "    await say_after(2, 'world')\n",
    "\n",
    "    print(f\"finished at {time.strftime('%X')}\")"
   ]
  },
  {
   "cell_type": "code",
   "execution_count": 7,
   "metadata": {},
   "outputs": [
    {
     "ename": "RuntimeError",
     "evalue": "asyncio.run() cannot be called from a running event loop",
     "output_type": "error",
     "traceback": [
      "\u001b[1;31m---------------------------------------------------------------------------\u001b[0m",
      "\u001b[1;31mRuntimeError\u001b[0m                              Traceback (most recent call last)",
      "\u001b[1;32m<ipython-input-7-eaadc83a82ea>\u001b[0m in \u001b[0;36m<module>\u001b[1;34m\u001b[0m\n\u001b[1;32m----> 1\u001b[1;33m \u001b[0masyncio\u001b[0m\u001b[1;33m.\u001b[0m\u001b[0mrun\u001b[0m\u001b[1;33m(\u001b[0m\u001b[0mmain\u001b[0m\u001b[1;33m(\u001b[0m\u001b[1;33m)\u001b[0m\u001b[1;33m)\u001b[0m\u001b[1;33m\u001b[0m\u001b[1;33m\u001b[0m\u001b[0m\n\u001b[0m",
      "\u001b[1;32mc:\\anaconda\\envs\\pabase\\lib\\asyncio\\runners.py\u001b[0m in \u001b[0;36mrun\u001b[1;34m(main, debug)\u001b[0m\n\u001b[0;32m     31\u001b[0m     \"\"\"\n\u001b[0;32m     32\u001b[0m     \u001b[1;32mif\u001b[0m \u001b[0mevents\u001b[0m\u001b[1;33m.\u001b[0m\u001b[0m_get_running_loop\u001b[0m\u001b[1;33m(\u001b[0m\u001b[1;33m)\u001b[0m \u001b[1;32mis\u001b[0m \u001b[1;32mnot\u001b[0m \u001b[1;32mNone\u001b[0m\u001b[1;33m:\u001b[0m\u001b[1;33m\u001b[0m\u001b[1;33m\u001b[0m\u001b[0m\n\u001b[1;32m---> 33\u001b[1;33m         raise RuntimeError(\n\u001b[0m\u001b[0;32m     34\u001b[0m             \"asyncio.run() cannot be called from a running event loop\")\n\u001b[0;32m     35\u001b[0m \u001b[1;33m\u001b[0m\u001b[0m\n",
      "\u001b[1;31mRuntimeError\u001b[0m: asyncio.run() cannot be called from a running event loop"
     ]
    }
   ],
   "source": [
    "asyncio.run(main())"
   ]
  }
 ],
 "metadata": {
  "kernelspec": {
   "display_name": "Python 3",
   "language": "python",
   "name": "python3"
  },
  "language_info": {
   "codemirror_mode": {
    "name": "ipython",
    "version": 3
   },
   "file_extension": ".py",
   "mimetype": "text/x-python",
   "name": "python",
   "nbconvert_exporter": "python",
   "pygments_lexer": "ipython3",
   "version": "3.8.5"
  }
 },
 "nbformat": 4,
 "nbformat_minor": 4
}
